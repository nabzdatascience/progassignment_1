{
 "cells": [
  {
   "cell_type": "code",
   "execution_count": 1,
   "id": "2b4ed38a",
   "metadata": {},
   "outputs": [
    {
     "name": "stdout",
     "output_type": "stream",
     "text": [
      "HelloPython\n"
     ]
    }
   ],
   "source": [
    "#Ans1:\n",
    "a='Hello'\n",
    "b='Python'\n",
    "print(a+b)"
   ]
  },
  {
   "cell_type": "code",
   "execution_count": 7,
   "id": "a4b462bb",
   "metadata": {},
   "outputs": [
    {
     "name": "stdout",
     "output_type": "stream",
     "text": [
      "Enter the first value: 12\n",
      "Enter the second value: 6\n",
      "Addition: 18\n",
      "Division: 2.0\n"
     ]
    }
   ],
   "source": [
    "#Ans2:\n",
    "    a=int(input(\"Enter the first value: \"))\n",
    "    b=int(input(\"Enter the second value: \"))\n",
    "    print(\"Addition:\",a+b)\n",
    "    print(\"Division:\",a/b)"
   ]
  },
  {
   "cell_type": "code",
   "execution_count": 9,
   "id": "5692ef66",
   "metadata": {},
   "outputs": [
    {
     "name": "stdout",
     "output_type": "stream",
     "text": [
      "Enter the base of the triangle: 4\n",
      "Enter the height of the triangle: 8\n",
      "Area of the triangle is:  16.0\n"
     ]
    }
   ],
   "source": [
    "#Ans3:\n",
    "base=float(input(\"Enter the base of the triangle: \" ))\n",
    "altitude=float(input(\"Enter the height of the triangle: \"))\n",
    "area=0.5*base*altitude\n",
    "print(\"Area of the triangle is: \", area)"
   ]
  },
  {
   "cell_type": "code",
   "execution_count": 11,
   "id": "17d77b6b",
   "metadata": {},
   "outputs": [
    {
     "name": "stdout",
     "output_type": "stream",
     "text": [
      "Value of a after swapping 6\n",
      "Value of b after swapping 5\n"
     ]
    }
   ],
   "source": [
    "#Ans 4:\n",
    "a=5\n",
    "b=6\n",
    "temp=a\n",
    "a=b\n",
    "b=temp\n",
    "print(\"Value of a after swapping\",a)\n",
    "print(\"Value of b after swapping\",b)"
   ]
  },
  {
   "cell_type": "code",
   "execution_count": 19,
   "id": "222e2c9e",
   "metadata": {},
   "outputs": [
    {
     "name": "stdout",
     "output_type": "stream",
     "text": [
      "5\n"
     ]
    }
   ],
   "source": [
    "#Ans 5:\n",
    "import random\n",
    "print(random.randint(0,5))"
   ]
  }
 ],
 "metadata": {
  "kernelspec": {
   "display_name": "Python 3 (ipykernel)",
   "language": "python",
   "name": "python3"
  },
  "language_info": {
   "codemirror_mode": {
    "name": "ipython",
    "version": 3
   },
   "file_extension": ".py",
   "mimetype": "text/x-python",
   "name": "python",
   "nbconvert_exporter": "python",
   "pygments_lexer": "ipython3",
   "version": "3.9.7"
  }
 },
 "nbformat": 4,
 "nbformat_minor": 5
}
